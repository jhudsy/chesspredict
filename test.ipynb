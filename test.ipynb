{
 "cells": [
  {
   "cell_type": "code",
   "execution_count": 116,
   "metadata": {},
   "outputs": [],
   "source": [
    "import chess\n",
    "import re\n",
    "import numpy as np\n",
    "\n",
    "game = '''\n",
    "[Event \"Rated Bullet tournament https://lichess.org/tournament/yc1WW2Ox\"]\n",
    "[Site \"https://lichess.org/PpwPOZMq\"]\n",
    "[Date \"2017.04.01\"]\n",
    "[Round \"-\"]\n",
    "[White \"Abbot\"]\n",
    "[Black \"Costello\"]\n",
    "[Result \"0-1\"]\n",
    "[UTCDate \"2017.04.01\"]\n",
    "[UTCTime \"11:32:01\"]\n",
    "[WhiteElo \"2100\"]\n",
    "[BlackElo \"2000\"]\n",
    "[WhiteRatingDiff \"-4\"]\n",
    "[BlackRatingDiff \"+1\"]\n",
    "[WhiteTitle \"FM\"]\n",
    "[ECO \"B30\"]\n",
    "[Opening \"Sicilian Defense: Old Sicilian\"]\n",
    "[TimeControl \"300+0\"]\n",
    "[Termination \"Time forfeit\"]\n",
    "\n",
    "1. e4 { [%eval 0.17] [%clk 0:00:30] } 1... c5 { [%eval 0.19] [%clk 0:00:30] }\n",
    "2. Nf3 { [%eval 0.25] [%clk 0:00:29] } 2... Nc6 { [%eval 0.33] [%clk 0:00:30] }\n",
    "3. Bc4 { [%eval -0.13] [%clk 0:00:28] } 3... e6 { [%eval -0.04] [%clk 0:00:30] }\n",
    "4. c3 { [%eval -0.4] [%clk 0:00:27] } 4... b5? { [%eval 1.18] [%clk 0:00:30] }\n",
    "5. Bb3?! { [%eval 0.21] [%clk 0:00:26] } 5... c4 { [%eval 0.32] [%clk 0:00:29] }\n",
    "6. Bc2 { [%eval 0.2] [%clk 0:00:25] } 6... a5 { [%eval 0.6] [%clk 0:00:29] }\n",
    "7. d4 { [%eval 0.29] [%clk 0:00:23] } 7... cxd3 { [%eval 0.6] [%clk 0:00:27] }\n",
    "8. Qxd3 { [%eval 0.12] [%clk 0:00:22] } 8... Nf6 { [%eval 0.52] [%clk 0:00:26] }\n",
    "9. e5 { [%eval 0.39] [%clk 0:00:21] } 9... Nd5 { [%eval 0.45] [%clk 0:00:25] }\n",
    "10. Bg5?! { [%eval -0.44] [%clk 0:00:18] } 10... Qc7 { [%eval -0.12] [%clk 0:00:23] }\n",
    "11. Nbd2?? { [%eval -3.15] [%clk 0:00:14] } 11... h6 { [%eval -2.99] [%clk 0:00:23] }\n",
    "12. Bh4 { [%eval -3.0] [%clk 0:00:11] } 12... Ba6? { [%eval -0.12] [%clk 0:00:23] }\n",
    "13. b3?? { [%eval -4.14] [%clk 0:00:02] } 13... Nf4? { [%eval -2.73] [%clk 0:00:21] } 0-1\n",
    "'''"
   ]
  },
  {
   "cell_type": "code",
   "execution_count": 95,
   "metadata": {},
   "outputs": [
    {
     "name": "stdout",
     "output_type": "stream",
     "text": [
      "White rating: 2100\n",
      "Black rating: 2000\n"
     ]
    }
   ],
   "source": [
    "def get_ratings(game_string):\n",
    "\n",
    "    white_rating = int(re.search(r'\\[WhiteElo \"(\\d+)\"\\]', game).group(1))\n",
    "    black_rating = int(re.search(r'\\[BlackElo \"(\\d+)\"\\]', game).group(1))\n",
    "\n",
    "    return white_rating, black_rating\n"
   ]
  },
  {
   "cell_type": "code",
   "execution_count": 127,
   "metadata": {},
   "outputs": [],
   "source": [
    "\n",
    "def get_game_tensors(game_string,num_tensors):\n",
    "\n",
    "    gt = np.zeros((num_tensors,134))\n",
    "\n",
    "    moves = []\n",
    "    evals = []\n",
    "\n",
    "    for move in re.findall(r'\\d+\\.+\\s+(\\D+\\d)[\\?|\\!]*\\s\\{\\s\\[%eval (\\#?\\-?\\d+\\.?\\d*)',game_string):\n",
    "        moves.append(move[0])\n",
    "        evals.append(move[1])\n",
    "\n",
    "    #let our t vector be a 1D array of 133 elements. The first 128 element represent the board before the move is made and after the move is made. The 129th element is the evaluation of the move before it is made and the 130th element is the evaluation of the move after it is made. If it is mate in X moves before the move is made, the 131st element is 1 and 0 otherwise. If it is mate in X moves after the move is made, the 132nd element is 1 and 0 otherwise. The 133rd element is 1 if it is white moved and -1 if it is black making the move.\n",
    "\n",
    "    board = chess.Board()\n",
    "\n",
    "    for m in range(0,min(40,len(moves)-1)):\n",
    "        t = np.zeros(134)\n",
    "\n",
    "        for i in range(64): #original board position\n",
    "            if board.piece_at(i) is not None:\n",
    "                t[i] = board.piece_at(i).piece_type * (1 if board.piece_at(i).color == chess.WHITE else -1)\n",
    "    \n",
    "        board.push_san(moves[m])\n",
    "        for i in range(64):\n",
    "            if board.piece_at(i) is not None:\n",
    "                t[i+64] = board.piece_at(i).piece_type * (1 if board.piece_at(i).color == chess.WHITE else -1)\n",
    "    \n",
    "        #evals is either a number, or starts with a #. If it starts with a #, it is a mate in X moves\n",
    "        if evals[m].startswith('#'):\n",
    "            t[129] = float(evals[m][1:])\n",
    "            t[130] = 1\n",
    "        else:\n",
    "            t[129] = float(evals[m])\n",
    "            t[130] = 0\n",
    "    \n",
    "        if evals[m+1].startswith('#'):\n",
    "            t[131] = float(evals[m+1][1:])\n",
    "            t[132] = 1\n",
    "        else:\n",
    "            t[131] = float(evals[m+1])\n",
    "            t[132] = 0\n",
    "\n",
    "        t[133] = -1 if board.turn == chess.WHITE else 1\n",
    "\n",
    "        gt[m] = t\n",
    "\n",
    "    return gt"
   ]
  },
  {
   "cell_type": "code",
   "execution_count": 128,
   "metadata": {},
   "outputs": [
    {
     "data": {
      "text/plain": [
       "array([[ 4.  ,  2.  ,  3.  , ...,  0.19,  0.  ,  1.  ],\n",
       "       [ 4.  ,  2.  ,  3.  , ...,  0.25,  0.  , -1.  ],\n",
       "       [ 4.  ,  2.  ,  3.  , ...,  0.33,  0.  ,  1.  ],\n",
       "       ...,\n",
       "       [ 0.  ,  0.  ,  0.  , ...,  0.  ,  0.  ,  0.  ],\n",
       "       [ 0.  ,  0.  ,  0.  , ...,  0.  ,  0.  ,  0.  ],\n",
       "       [ 0.  ,  0.  ,  0.  , ...,  0.  ,  0.  ,  0.  ]], shape=(40, 134))"
      ]
     },
     "execution_count": 128,
     "metadata": {},
     "output_type": "execute_result"
    }
   ],
   "source": [
    "get_game_tensors(game,40)"
   ]
  },
  {
   "cell_type": "code",
   "execution_count": null,
   "metadata": {},
   "outputs": [],
   "source": []
  }
 ],
 "metadata": {
  "kernelspec": {
   "display_name": ".venv",
   "language": "python",
   "name": "python3"
  },
  "language_info": {
   "codemirror_mode": {
    "name": "ipython",
    "version": 3
   },
   "file_extension": ".py",
   "mimetype": "text/x-python",
   "name": "python",
   "nbconvert_exporter": "python",
   "pygments_lexer": "ipython3",
   "version": "3.12.2"
  }
 },
 "nbformat": 4,
 "nbformat_minor": 2
}
